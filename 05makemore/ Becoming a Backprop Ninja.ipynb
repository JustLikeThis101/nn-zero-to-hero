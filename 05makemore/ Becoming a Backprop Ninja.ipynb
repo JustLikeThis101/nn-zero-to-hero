{
 "cells": [
  {
   "cell_type": "code",
   "execution_count": 1,
   "id": "ab865a12-5cc5-45bd-99c5-11f42579c691",
   "metadata": {},
   "outputs": [],
   "source": [
    "# there no change change in the first several cells from last lecture"
   ]
  },
  {
   "cell_type": "code",
   "execution_count": 1,
   "id": "0a2e30eb-9766-4292-b936-aeb0c374796b",
   "metadata": {},
   "outputs": [],
   "source": [
    "import torch\n",
    "import torch.nn.functional as F\n",
    "import matplotlib.pyplot as plt # for making figures\n",
    "%matplotlib inline"
   ]
  },
  {
   "cell_type": "code",
   "execution_count": 2,
   "id": "e53eef2e-75c5-461e-ac60-1e5825875f5c",
   "metadata": {},
   "outputs": [
    {
     "name": "stdout",
     "output_type": "stream",
     "text": [
      "32033\n",
      "15\n",
      "['emma', 'olivia', 'ava', 'isabella', 'sophia', 'charlotte', 'mia', 'amelia']\n"
     ]
    }
   ],
   "source": [
    "# read in all the words\n",
    "words = open('names.txt', 'r').read().splitlines()\n",
    "print(len(words))\n",
    "print(max(len(w) for w in words))\n",
    "print(words[:8])"
   ]
  },
  {
   "cell_type": "code",
   "execution_count": 3,
   "id": "99307f85-55c8-4f66-8d6e-8d937358bf06",
   "metadata": {},
   "outputs": [
    {
     "name": "stdout",
     "output_type": "stream",
     "text": [
      "{1: 'a', 2: 'b', 3: 'c', 4: 'd', 5: 'e', 6: 'f', 7: 'g', 8: 'h', 9: 'i', 10: 'j', 11: 'k', 12: 'l', 13: 'm', 14: 'n', 15: 'o', 16: 'p', 17: 'q', 18: 'r', 19: 's', 20: 't', 21: 'u', 22: 'v', 23: 'w', 24: 'x', 25: 'y', 26: 'z', 0: '.'}\n",
      "27\n"
     ]
    }
   ],
   "source": [
    "# build the vocabulary of characters and mappings to/from integers\n",
    "chars = sorted(list(set(''.join(words))))\n",
    "stoi = {s:i+1 for i,s in enumerate(chars)}\n",
    "stoi['.'] = 0\n",
    "itos = {i:s for s,i in stoi.items()}\n",
    "vocab_size = len(itos)\n",
    "print(itos)\n",
    "print(vocab_size)"
   ]
  },
  {
   "cell_type": "code",
   "execution_count": 4,
   "id": "f8249813-bd1a-45bf-b4da-3ede39366b62",
   "metadata": {},
   "outputs": [
    {
     "name": "stdout",
     "output_type": "stream",
     "text": [
      "torch.Size([182625, 3]) torch.Size([182625])\n",
      "torch.Size([22655, 3]) torch.Size([22655])\n",
      "torch.Size([22866, 3]) torch.Size([22866])\n"
     ]
    }
   ],
   "source": [
    "# build the dataset\n",
    "block_size = 3 # context length: how many characters do we take to predict the next one?\n",
    "\n",
    "def build_dataset(words):  \n",
    "  X, Y = [], []\n",
    "  \n",
    "  for w in words:\n",
    "    context = [0] * block_size\n",
    "    for ch in w + '.':\n",
    "      ix = stoi[ch]\n",
    "      X.append(context)\n",
    "      Y.append(ix)\n",
    "      context = context[1:] + [ix] # crop and append\n",
    "\n",
    "  X = torch.tensor(X)\n",
    "  Y = torch.tensor(Y)\n",
    "  print(X.shape, Y.shape)\n",
    "  return X, Y\n",
    "\n",
    "import random\n",
    "random.seed(42)\n",
    "random.shuffle(words)\n",
    "n1 = int(0.8*len(words))\n",
    "n2 = int(0.9*len(words))\n",
    "\n",
    "Xtr,  Ytr  = build_dataset(words[:n1])     # 80%\n",
    "Xdev, Ydev = build_dataset(words[n1:n2])   # 10%\n",
    "Xte,  Yte  = build_dataset(words[n2:])     # 10%"
   ]
  },
  {
   "cell_type": "code",
   "execution_count": 5,
   "id": "8431424d-8cf6-48ba-9c8a-5352ee75e227",
   "metadata": {},
   "outputs": [],
   "source": [
    "# ok biolerplate done, now we get to the action:"
   ]
  },
  {
   "cell_type": "code",
   "execution_count": 6,
   "id": "e35abe56-3b21-434f-a5cf-8f9dc34f0186",
   "metadata": {},
   "outputs": [],
   "source": [
    "# utility function we will use later when comparing manual gradients to PyTorch gradients\n",
    "def cmp(s, dt, t):\n",
    "  ex = torch.all(dt == t.grad).item()\n",
    "  app = torch.allclose(dt, t.grad)\n",
    "  maxdiff = (dt - t.grad).abs().max().item()\n",
    "  print(f'{s:15s} | exact: {str(ex):5s} | approximate: {str(app):5s} | maxdiff: {maxdiff}')"
   ]
  },
  {
   "cell_type": "code",
   "execution_count": 7,
   "id": "52412501-898a-4626-b547-4be75b1d84e2",
   "metadata": {},
   "outputs": [
    {
     "name": "stdout",
     "output_type": "stream",
     "text": [
      "4137\n"
     ]
    }
   ],
   "source": [
    "n_embd = 10 # the dimensionality of the character embedding vectors\n",
    "n_hidden = 64 # the number of neurons in the hidden layer of the MLP\n",
    "\n",
    "g = torch.Generator().manual_seed(2147483647) # for reproducibility\n",
    "C  = torch.randn((vocab_size, n_embd),            generator=g)\n",
    "# Layer 1\n",
    "W1 = torch.randn((n_embd * block_size, n_hidden), generator=g) * (5/3)/((n_embd * block_size)**0.5)\n",
    "b1 = torch.randn(n_hidden,                        generator=g) * 0.1 # using b1 just for fun, it's useless because of BN\n",
    "# Layer 2\n",
    "W2 = torch.randn((n_hidden, vocab_size),          generator=g) * 0.1\n",
    "b2 = torch.randn(vocab_size,                      generator=g) * 0.1\n",
    "# BatchNorm parameters\n",
    "bngain = torch.randn((1, n_hidden))*0.1 + 1.0\n",
    "bnbias = torch.randn((1, n_hidden))*0.1\n",
    "\n",
    "# Note: I am initializating many of these parameters in non-standard ways\n",
    "# because sometimes initializating with e.g. all zeros could mask an incorrect\n",
    "# implementation of the backward pass.\n",
    "\n",
    "parameters = [C, W1, b1, W2, b2, bngain, bnbias]\n",
    "print(sum(p.nelement() for p in parameters)) # number of parameters in total\n",
    "for p in parameters:\n",
    "  p.requires_grad = True"
   ]
  },
  {
   "cell_type": "code",
   "execution_count": 8,
   "id": "9d91a2fe-c43e-4f43-8464-3e2ae980a011",
   "metadata": {},
   "outputs": [],
   "source": [
    "batch_size = 32\n",
    "n = batch_size # a shorter variable also, for convenience\n",
    "# construct a minibatch\n",
    "ix = torch.randint(0, Xtr.shape[0], (batch_size,), generator=g)\n",
    "Xb, Yb = Xtr[ix], Ytr[ix] # batch X,Y"
   ]
  },
  {
   "cell_type": "code",
   "execution_count": 9,
   "id": "282c6aa8-78d6-4ea4-865b-405d23a84d09",
   "metadata": {},
   "outputs": [
    {
     "data": {
      "text/plain": [
       "tensor(3.3295, grad_fn=<NegBackward0>)"
      ]
     },
     "execution_count": 9,
     "metadata": {},
     "output_type": "execute_result"
    }
   ],
   "source": [
    "# forward pass, \"chunkated\" into smaller steps that are possible to backward one at a time\n",
    "\n",
    "emb = C[Xb] # embed the characters into vectors\n",
    "embcat = emb.view(emb.shape[0], -1) # concatenate the vectors\n",
    "# Linear layer 1\n",
    "hprebn = embcat @ W1 + b1 # hidden layer pre-activation\n",
    "# BatchNorm layer\n",
    "bnmeani = 1/n*hprebn.sum(0, keepdim=True)\n",
    "bndiff = hprebn - bnmeani\n",
    "bndiff2 = bndiff**2\n",
    "bnvar = 1/(n-1)*(bndiff2).sum(0, keepdim=True) # note: Bessel's correction (dividing by n-1, not n)\n",
    "bnvar_inv = (bnvar + 1e-5)**-0.5\n",
    "bnraw = bndiff * bnvar_inv\n",
    "hpreact = bngain * bnraw + bnbias\n",
    "# Non-linearity\n",
    "h = torch.tanh(hpreact) # hidden layer\n",
    "# Linear layer 2\n",
    "logits = h @ W2 + b2 # output layer\n",
    "# cross entropy loss (same as F.cross_entropy(logits, Yb))\n",
    "logit_maxes = logits.max(1, keepdim=True).values\n",
    "norm_logits = logits - logit_maxes # subtract max for numerical stability\n",
    "counts = norm_logits.exp()\n",
    "counts_sum = counts.sum(1, keepdim=True)\n",
    "counts_sum_inv = counts_sum**-1 # if I use (1.0 / counts_sum) instead then I can't get backprop to be bit exact...\n",
    "probs = counts * counts_sum_inv # [32, 27] * [32, 1]。这里有一个 implicit broadcasting；后面那个column tensor会被replicate 27次\n",
    "# probs_commutative =  counts_sum_inv * counts\n",
    "# assert torch.all(probs == probs_commutative) == True\n",
    "logprobs = probs.log()\n",
    "loss = -logprobs[range(n), Yb].mean()\n",
    "\n",
    "# PyTorch backward pass\n",
    "for p in parameters:\n",
    "  p.grad = None\n",
    "for t in [logprobs, probs, counts, counts_sum, counts_sum_inv, # afaik there is no cleaner way\n",
    "          norm_logits, logit_maxes, logits, h, hpreact, bnraw,\n",
    "         bnvar_inv, bnvar, bndiff2, bndiff, hprebn, bnmeani,\n",
    "         embcat, emb]:\n",
    "  t.retain_grad()\n",
    "loss.backward()\n",
    "loss"
   ]
  },
  {
   "cell_type": "markdown",
   "id": "242bdac3-2e5e-463a-bfe3-643a065eb21a",
   "metadata": {},
   "source": [
    "在PyTorch中，`logprobs[range(n), Yb]` 这种索引方式利用了高级索引（Advanced Indexing）的特性。高级索引允许你使用多个索引数组来同时索引多个维度，从而实现更复杂的索引操作。\r\n",
    "\r\n",
    "具体来说，`logprobs[range(n), Yb]` 的工作原理如下：\r\n",
    "\r\n",
    "1. **`range(n)`**：\r\n",
    "   - 生成一个从 `0` 到 `n-1` 的整数序列。这实际上是一个长度为 `n` 的数组，表示要选择的行索引。\r\n",
    "   - 假设 `n = 32`，那么 `range(n)` 就是 `[0, 1, 2, ..., 31]`。\r\n",
    "\r\n",
    "2. **`Yb`**：\r\n",
    "   - 这是一个长度为 `n` 的张量，表示要选择的列索引。\r\n",
    "   - 例如，`Yb` 是 `tensor([8, 14, 15, ..., 18])`。\r\n",
    "\r\n",
    "3. **高级索引**：\r\n",
    "   - 当你使用 `logprobs[range(n), Yb]` 时，PyTorch 会将 `range(n)` 和 `Yb` 视为两个索引数组。\r\n",
    "   - `range(n)` 指定了要选择的行索引，`Yb` 指定了要选择的列索引。\r\n",
    "   - PyTorch 会逐元素地将这两个数组组合起来进行索引。例如，第一个元素是 `(0, 8)`，第二个元素是 `(1, 14)`，依此类推。\r\n",
    "\r\n",
    "因此，`logprobs[range(n), Yb]` 会返回一个长度为 `n` 的张量，其中每个元素是 `logprobs` 中对应位置的值。具体来说，它会返回以下值：\r\n",
    "- `logprobs[0, 8]`\r\n",
    "- `logprobs[1, 14]`\r\n",
    "- `logprobs[2, 15]`\r\n",
    "- ...\r\n",
    "- `logprobs[31, 18]`\r\n",
    "\r\n",
    "这就是如何通过高级索引来同时索引行和列的方式。高级索引在处理多维数组时非常强大，可以用来实现复杂的索引和切片操作。"
   ]
  },
  {
   "cell_type": "code",
   "execution_count": 10,
   "id": "689be4f7-aa18-4f61-ba03-f2b8f1e80427",
   "metadata": {},
   "outputs": [
    {
     "name": "stdout",
     "output_type": "stream",
     "text": [
      "logprobs.shape=torch.Size([32, 27])\n",
      "probs.shape=torch.Size([32, 27])\n",
      "counts.shape=torch.Size([32, 27])\n",
      "counts_sum.shape=torch.Size([32, 1])\n",
      "counts_sum_inv.shape=torch.Size([32, 1])\n",
      "logits.shape=torch.Size([32, 27])\n",
      "norm_logits.shape=torch.Size([32, 27])\n",
      "logit_maxes.shape=torch.Size([32, 1])\n",
      "h.shape=torch.Size([32, 64])\n",
      "W2.shape=torch.Size([64, 27])\n",
      "b2.shape=torch.Size([27])\n"
     ]
    }
   ],
   "source": [
    "print(f'{logprobs.shape=}')\n",
    "print(f'{probs.shape=}')\n",
    "print(f'{counts.shape=}')\n",
    "print(f'{counts_sum.shape=}')\n",
    "print(f'{counts_sum_inv.shape=}')\n",
    "print(f'{logits.shape=}')\n",
    "print(f'{norm_logits.shape=}')\n",
    "print(f'{logit_maxes.shape=}')\n",
    "print(f'{h.shape=}')\n",
    "print(f'{W2.shape=}')\n",
    "print(f'{b2.shape=}')"
   ]
  },
  {
   "cell_type": "code",
   "execution_count": 11,
   "id": "519863d0-6e4b-46d3-b02b-791aa1740c29",
   "metadata": {},
   "outputs": [],
   "source": [
    "# Exercise 1: backprop through the whole thing manually, \n",
    "# backpropagating through exactly all of the variables \n",
    "# as they are defined in the forward pass above, one by one\n",
    "\n",
    "#FORWARD PASS# loss = -logprobs[range(n), Yb].mean()\n",
    "# 案例：loss = -1/3a + -1/3b + -1/3c\n",
    "# 推广：dloss/da = -1/n\n",
    "dlogprobs =  torch.zeros_like(logprobs) # logprobs.shape = [32,27]. \n",
    "dlogprobs[range(n), Yb] = -1.0/n # logprobs 其中 32 个 element 对 loss 有影响，剩余的无影响，即 grad = 0\n",
    "\n",
    "#FORWARD PASS# logprobs = probs.log()\n",
    "dprobs = (1.0 / probs) * dlogprobs # probs [32, 27]\n",
    "\n",
    "#FORWARD PASS# probs = counts * counts_sum_inv; 这里其实包含了两个operation: 1. replicate column tensor 2. element-wise multiplication\n",
    "# counts.shape = [32, 27]; counts_sum_inv.shape = [32, 1]\n",
    "# 为了element-wise乘法，torch会做implicit broadcasing，把 column vector 从[32, 1] -> [32, 27]\n",
    "# c = a * b, but with tensors: 注意这里不是矩阵的乘法，和 @ 操作区分，输出的 C.shape = 3,3\n",
    "# 第一个 operation 是 replicateion，第二个 operation 是 multiplication\n",
    "# a[3x3] * b[3,1] --->\n",
    "# a11*b1 a12*b1 a13*b1\n",
    "# a21*b2 a22*b2 a23*b2\n",
    "# a31*b3 a32*b3 a33*b3\n",
    "# c[3x3]\n",
    "# torch.sum(dim): the dimension or dimensions to reduce. If None, all dimensions are reduced.\n",
    "dcounts_sum_inv = (counts * dprobs).sum(1, keepdim=True)\n",
    "#FORWARD PASS# probs = counts * counts_sum_inv;\n",
    "dcounts = counts_sum_inv * dprobs # [32, 1] * [32, 27]; 这里会有implicit broadcast\n",
    "\n",
    "#FORWARD PASS# counts_sum_inv = counts_sum**-1\n",
    "dcounts_sum = (-counts_sum**-2) * dcounts_sum_inv\n",
    "\n",
    "#FORWARD PASS# counts_sum = counts.sum(1, keepdim=True)\n",
    "# a11 a12 a13 ---> b1 (= a11 + a12 + a13)\n",
    "# a21 a22 a23 ---> b2 (= a21 + a22 + a23)\n",
    "# a31 a32 a33 ---> b3 (= a31 + a32 + a33)\n",
    "dcounts += torch.ones_like(counts) * dcounts_sum # 让 implict broadcast 来做 multiplication，即 grad 的 router\n",
    "\n",
    "#FORWARD PASS# counts = norm_logits.exp()\n",
    "dnorm_logits = counts * dcounts # counts = norm_logits.exp(); X.exp() 的 derivative 就是 X.exp()\n",
    "\n",
    "#FORWARD PASS# norm_logis = logits - logit_maxes\n",
    "# dlogit_maxes 几乎都是0，因为这步是为了 numerical stability，不影响 loss 的结果\n",
    "# c11 c12 c13 = a11 a12 a13     b1\n",
    "# c21 c22 c23 = a21 a22 a23    -b2\n",
    "# c31 c32 c33 = b31 a32 a33     b3\n",
    "# so e.g., c32 = a32 - b3\n",
    "dlogits = dnorm_logits.clone()\n",
    "dlogit_maxes = (-dnorm_logits).sum(1, keepdim=True)\n",
    "\n",
    "#FORWARD PASS# logit_maxes = logits.max(1, keepdim=True).values\n",
    "# plt.imshow(F.one_hot(logits.max(1).indices, num_classes=logits.shape[1]))\n",
    "dlogits += F.one_hot(logits.max(1).indices, num_classes=logits.shape[1]) * dlogit_maxes\n",
    "\n",
    "#FORWARD PASS# logits = h @ W2 + b2\n",
    "# h.shape = [32, 64]\n",
    "# logits.shape = [32, 27]\n",
    "# W2.shape = [64, 27]\n",
    "# b2.shape = [27]\n",
    "dh = dlogits @ W2.T\n",
    "dW2 = h.T @ dlogits\n",
    "db2 = dlogits.sum(0)"
   ]
  },
  {
   "cell_type": "code",
   "execution_count": 23,
   "id": "3de5e7f8-ce83-44b8-8e01-24b1ba229f4c",
   "metadata": {},
   "outputs": [
    {
     "name": "stdout",
     "output_type": "stream",
     "text": [
      "hpreact.shape=torch.Size([32, 64])\n",
      "bngain.shape=torch.Size([1, 64])\n",
      "bnraw.shape=torch.Size([32, 64])\n",
      "bnbias.shape=torch.Size([1, 64])\n",
      "bndiff.shape=torch.Size([32, 64])\n",
      "bnvar.shape=torch.Size([1, 64])\n",
      "bnvar_inv.shape=torch.Size([1, 64])\n",
      "bndiff2.shape=torch.Size([32, 64])\n",
      "hprebn.shape=torch.Size([32, 64])\n",
      "bnmeani.shape=torch.Size([1, 64])\n"
     ]
    }
   ],
   "source": [
    "print(f'{hpreact.shape=}')\n",
    "print(f'{bngain.shape=}')\n",
    "print(f'{bnraw.shape=}')\n",
    "print(f'{bnbias.shape=}')\n",
    "print(f'{bndiff.shape=}')\n",
    "print(f'{bnvar.shape=}')\n",
    "print(f'{bnvar_inv.shape=}')\n",
    "print(f'{bndiff2.shape=}')\n",
    "print(f'{hprebn.shape=}')\n",
    "print(f'{bnmeani.shape=}')"
   ]
  },
  {
   "cell_type": "code",
   "execution_count": 24,
   "id": "fa7f6ee5-5cb0-4595-98b3-5a00afb09c73",
   "metadata": {},
   "outputs": [
    {
     "name": "stdout",
     "output_type": "stream",
     "text": [
      "logprobs        | exact: True  | approximate: True  | maxdiff: 0.0\n",
      "probs           | exact: True  | approximate: True  | maxdiff: 0.0\n",
      "counts_sum_inv  | exact: True  | approximate: True  | maxdiff: 0.0\n",
      "counts_sum      | exact: True  | approximate: True  | maxdiff: 0.0\n",
      "counts          | exact: True  | approximate: True  | maxdiff: 0.0\n",
      "norm_logits     | exact: True  | approximate: True  | maxdiff: 0.0\n",
      "logit_maxes     | exact: True  | approximate: True  | maxdiff: 0.0\n",
      "logits          | exact: True  | approximate: True  | maxdiff: 0.0\n",
      "h               | exact: True  | approximate: True  | maxdiff: 0.0\n",
      "W2              | exact: True  | approximate: True  | maxdiff: 0.0\n",
      "b2              | exact: True  | approximate: True  | maxdiff: 0.0\n",
      "hpreact         | exact: True  | approximate: True  | maxdiff: 0.0\n",
      "bngain          | exact: True  | approximate: True  | maxdiff: 0.0\n",
      "bnbias          | exact: True  | approximate: True  | maxdiff: 0.0\n",
      "bnraw           | exact: True  | approximate: True  | maxdiff: 0.0\n",
      "bnvar_inv       | exact: True  | approximate: True  | maxdiff: 0.0\n",
      "bnvar           | exact: True  | approximate: True  | maxdiff: 0.0\n",
      "bndiff2         | exact: True  | approximate: True  | maxdiff: 0.0\n",
      "bndiff          | exact: True  | approximate: True  | maxdiff: 0.0\n",
      "bnmeani         | exact: True  | approximate: True  | maxdiff: 0.0\n",
      "hprebn          | exact: False | approximate: False | maxdiff: 0.001118548447266221\n"
     ]
    }
   ],
   "source": [
    "#FORWARD PASS# h = torch.tanh(hpreact)\n",
    "dhpreact = (1.0 - h**2) * dh\n",
    "\n",
    "#FORWARD PASS# hpreact = bngain * bnraw + bnbias\n",
    "dbngain = (bnraw * dhpreact).sum(0, keepdim=True)\n",
    "dbnraw =  bngain * dhpreact\n",
    "dbnbias = dhpreact.sum(0, keepdim=True)\n",
    "\n",
    "#FORWARD PASS# bnraw = bndiff * bnvar_inv\n",
    "dbndiff = bnvar_inv * dbnraw\n",
    "dbnvar_inv = (bndiff * dbnraw).sum(0, keepdim=True)\n",
    "\n",
    "#FORWARD PASS# bnvar_inv = (bnvar + 1e-5)**-0.5\n",
    "dbnvar = (-0.5*(bnvar + 1e-5)**-1.5) * dbnvar_inv\n",
    "\n",
    "#FORWARD PASS# bnvar = 1/(n-1)*(bndiff2).sum(0, keepdim=True)\n",
    "# a11 a12\n",
    "# a21 a22\n",
    "# --->\n",
    "# b1 b2, where:\n",
    "# b1 = 1/(n-1)*(a11 + a21)\n",
    "# b2 = 1/(n-1)*(a12 + a22)\n",
    "dbndiff2 = (1.0/(n-1))*torch.ones_like(bndiff2) * dbnvar\n",
    "\n",
    "#FORWARD PASS# bndiff2 = bndiff**2\n",
    "dbndiff += 2 * bndiff * dbndiff2\n",
    "\n",
    "#FORWARD PASS# bndiff = hprebn - bnmeani\n",
    "dhprebn = dbndiff.clone()\n",
    "dbnmeani = (-dbndiff).sum(0) # dbnmeani = (-torch.ones_like(bndiff) * dbndiff).sum(0)\n",
    "\n",
    "\n",
    "cmp('logprobs', dlogprobs, logprobs)\n",
    "cmp('probs', dprobs, probs)\n",
    "cmp('counts_sum_inv', dcounts_sum_inv, counts_sum_inv)\n",
    "cmp('counts_sum', dcounts_sum, counts_sum)\n",
    "cmp('counts', dcounts, counts)\n",
    "cmp('norm_logits', dnorm_logits, norm_logits)\n",
    "cmp('logit_maxes', dlogit_maxes, logit_maxes)\n",
    "cmp('logits', dlogits, logits)\n",
    "cmp('h', dh, h)\n",
    "cmp('W2', dW2, W2)\n",
    "cmp('b2', db2, b2)\n",
    "cmp('hpreact', dhpreact, hpreact)\n",
    "cmp('bngain', dbngain, bngain)\n",
    "cmp('bnbias', dbnbias, bnbias)\n",
    "cmp('bnraw', dbnraw, bnraw)\n",
    "cmp('bnvar_inv', dbnvar_inv, bnvar_inv)\n",
    "cmp('bnvar', dbnvar, bnvar)\n",
    "cmp('bndiff2', dbndiff2, bndiff2)\n",
    "cmp('bndiff', dbndiff, bndiff)\n",
    "cmp('bnmeani', dbnmeani, bnmeani)\n",
    "cmp('hprebn', dhprebn, hprebn)\n",
    "# cmp('embcat', dembcat, embcat)\n",
    "# cmp('W1', dW1, W1)\n",
    "# cmp('b1', db1, b1)\n",
    "# cmp('emb', demb, emb)\n",
    "# cmp('C', dC, C)"
   ]
  },
  {
   "cell_type": "code",
   "execution_count": 50,
   "id": "16f6dea0-78b2-45bd-8de1-3840bc113e22",
   "metadata": {},
   "outputs": [],
   "source": [
    "# 28'53''"
   ]
  },
  {
   "cell_type": "code",
   "execution_count": null,
   "id": "9be87ef1-cd31-46f5-ae6c-39162d21025e",
   "metadata": {},
   "outputs": [],
   "source": [
    "hprebn = embcat @ W1 + b1 # hidden layer pre-activation\n",
    "# BatchNorm layer\n",
    "bnmeani = 1/n*hprebn.sum(0, keepdim=True)\n",
    "bndiff = hprebn - bnmeani\n",
    "bndiff2 = bndiff**2\n",
    "bnvar = 1/(n-1)*(bndiff2).sum(0, keepdim=True) # note: Bessel's correction (dividing by n-1, not n)\n",
    "bnvar_inv = (bnvar + 1e-5)**-0.5"
   ]
  }
 ],
 "metadata": {
  "kernelspec": {
   "display_name": "Python 3 (ipykernel)",
   "language": "python",
   "name": "python3"
  },
  "language_info": {
   "codemirror_mode": {
    "name": "ipython",
    "version": 3
   },
   "file_extension": ".py",
   "mimetype": "text/x-python",
   "name": "python",
   "nbconvert_exporter": "python",
   "pygments_lexer": "ipython3",
   "version": "3.10.13"
  }
 },
 "nbformat": 4,
 "nbformat_minor": 5
}
